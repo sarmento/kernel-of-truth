{
 "metadata": {
  "name": "",
  "signature": "sha256:42cf6957943aaafd4b1e7b81aafbe49eb327817211a017ed38d37f54748e2a0a"
 },
 "nbformat": 3,
 "nbformat_minor": 0,
 "worksheets": [
  {
   "cells": [
    {
     "cell_type": "code",
     "collapsed": false,
     "input": [
      "import numpy as np\n",
      "import scipy as sp\n",
      "import scipy.stats\n",
      "import pandas as pd\n",
      "import colin\n",
      "import matplotlib.pyplot as plt\n",
      "\n",
      "%matplotlib inline"
     ],
     "language": "python",
     "metadata": {},
     "outputs": [],
     "prompt_number": 1
    },
    {
     "cell_type": "code",
     "collapsed": false,
     "input": [
      "n_examples=10\n",
      "ssprob=0.45 \n",
      "slprob=0.05 \n",
      "dlprob=0.45 \n",
      "dsprob=0.05 \n",
      "bias=1.0*100000\n",
      "seattle_effect=0.1*100000 \n",
      "detroit_effect=0.0*100000\n",
      "error_scale=0.1*100000\n",
      "df = colin.generate_income_df(ssprob=ssprob, slprob=slprob, \n",
      "                              dlprob=dlprob, dsprob=dsprob, \n",
      "                              bias=bias, \n",
      "                              seattle_effect=seattle_effect, detroit_effect=detroit_effect, \n",
      "                              error_scale=error_scale, \n",
      "                              n_examples=n_examples)\n",
      "print df.residence.sum()\n",
      "df['City_Name'] = df['seattle'].apply(lambda x: 'Seattle' if x==1 else 'Detroit')\n",
      "\n",
      "print df[['City_Name', 'income']]"
     ],
     "language": "python",
     "metadata": {},
     "outputs": [
      {
       "output_type": "stream",
       "stream": "stdout",
       "text": [
        "5\n",
        "  City_Name         income\n",
        "0   Seattle  107805.333740\n",
        "1   Seattle  107150.294696\n",
        "2   Detroit  106826.912338\n",
        "3   Detroit   94399.982682\n",
        "4   Detroit   95589.432217\n",
        "5   Seattle  105981.096168\n",
        "6   Detroit  118601.554669\n",
        "7   Seattle  108543.613289\n",
        "8   Seattle  102971.943049\n",
        "9   Detroit  100728.509944\n",
        "\n",
        "[10 rows x 2 columns]\n"
       ]
      }
     ],
     "prompt_number": 23
    },
    {
     "cell_type": "code",
     "collapsed": false,
     "input": [
      "cname = {}\n",
      "cname[0] =  'Seattle'  \n",
      "cname[1] =  'Seattle'  \n",
      "cname[2] =  'Detroit'  \n",
      "cname[3] =  'Detroit'  \n",
      "cname[4] =  'Detroit'  \n",
      "cname[5] =  'Seattle'  \n",
      "cname[6] =  'Detroit'  \n",
      "cname[7] =  'Seattle'  \n",
      "cname[8] =  'Seattle'  \n",
      "cname[9] =  'Detroit'  \n",
      "\n",
      "income = {}\n",
      "income[0] =  107805.\n",
      "income[1] =  107150.\n",
      "income[2] =  106826.\n",
      "income[3] =   94399.\n",
      "income[4] =   95589.\n",
      "income[5] =  105981.\n",
      "income[6] =  101601.\n",
      "income[7] =  108543.\n",
      "income[8] =  115971.\n",
      "income[9] =  100728.\n",
      "\n",
      "toy_df = pd.DataFrame.from_dict({'City_Name': cname, 'Income': income})\n",
      "d_mean = toy_df[toy_df['City_Name']=='Detroit'].mean()\n",
      "s_mean = toy_df[toy_df['City_Name']=='Seattle'].mean()\n",
      "print d_mean, s_mean, s_mean-d_mean"
     ],
     "language": "python",
     "metadata": {},
     "outputs": [
      {
       "output_type": "stream",
       "stream": "stdout",
       "text": [
        "Income    99828.6\n",
        "dtype: float64 Income    109090\n",
        "dtype: float64 Income    9261.4\n",
        "dtype: float64\n"
       ]
      }
     ],
     "prompt_number": 49
    },
    {
     "cell_type": "code",
     "collapsed": false,
     "input": [
      "bias = {ii: 1 for ii in range(10)}\n",
      "\n",
      "toy_df['Seattle_indicator']=toy_df['City_Name'].apply(lambda x: 1 if x=='Seattle' else 0)\n",
      "toy_df['Detroit_indicator']=toy_df['City_Name'].apply(lambda x: 1 if x=='Detroit' else 0)\n",
      "toy_df['Bias']=toy_df['City_Name'].apply(lambda x: 1)\n",
      "toy_df['Residence']=toy_df['Seattle_indicator']\n",
      "\n",
      "toy_df_ind_rep = toy_df[['Seattle_indicator', 'Detroit_indicator', 'Income']]\n",
      "toy_df_bias_rep = toy_df[['Bias', 'Residence']]"
     ],
     "language": "python",
     "metadata": {},
     "outputs": [],
     "prompt_number": 59
    },
    {
     "cell_type": "code",
     "collapsed": false,
     "input": [
      "xx=np.matrix(toy_df_bias_rep)\n",
      "print (xx.T.dot(xx)/5.0)\n",
      "print (xx.T.dot(xx)/5.0).I\n",
      "print xx.T.dot(xx).I"
     ],
     "language": "python",
     "metadata": {},
     "outputs": [
      {
       "output_type": "stream",
       "stream": "stdout",
       "text": [
        "[[ 2.  1.]\n",
        " [ 1.  1.]]\n",
        "[[ 1. -1.]\n",
        " [-1.  2.]]\n",
        "[[ 0.2 -0.2]\n",
        " [-0.2  0.4]]\n"
       ]
      }
     ],
     "prompt_number": 72
    },
    {
     "cell_type": "code",
     "collapsed": false,
     "input": [
      "(toy_df.Income*toy_df.Seattle_indicator).sum()/5.0"
     ],
     "language": "python",
     "metadata": {},
     "outputs": [
      {
       "metadata": {},
       "output_type": "pyout",
       "prompt_number": 76,
       "text": [
        "109090.0"
       ]
      }
     ],
     "prompt_number": 76
    },
    {
     "cell_type": "code",
     "collapsed": false,
     "input": [
      "n_examples=1000\n",
      "ssprob=0.45 \n",
      "slprob=0.05 \n",
      "dlprob=0.45 \n",
      "dsprob=0.05 \n",
      "bias=1.0\n",
      "seattle_effect=0.1 \n",
      "detroit_effect=0.0\n",
      "error_scale=0.1\n",
      "df = colin.generate_income_df(ssprob=ssprob, slprob=slprob, \n",
      "                              dlprob=dlprob, dsprob=dsprob, \n",
      "                              bias=bias, \n",
      "                              seattle_effect=seattle_effect, detroit_effect=detroit_effect, \n",
      "                              error_scale=error_scale, \n",
      "                              n_examples=n_examples)\n",
      "#print df\n",
      "\n",
      "sea_det_mat = np.matrix(df[['seattle', 'detroit']])\n",
      "bias_res_mat = np.matrix(df[['bias', 'seattle']])\n",
      "inc = np.matrix(df['income'])\n",
      "\n",
      "sea_det_XCOV = sea_det_mat.T.dot(sea_det_mat)\n",
      "sea_det_xcov = 1/(n_examples-1.0)*sea_det_XCOV\n",
      "sea_det_YCOV = sea_det_mat.T.dot(inc.T)\n",
      "sea_det_ycov = 1/(n_examples-1.0)*sea_det_YCOV\n",
      "\n",
      "bias_res_XCOV = bias_res_mat.T.dot(bias_res_mat)\n",
      "bias_res_xcov = 1/(n_examples-1.0)*bias_res_XCOV\n",
      "bias_res_YCOV = bias_res_mat.T.dot(inc.T)\n",
      "bias_res_ycov = 1/(n_examples-1.0)*bias_res_YCOV\n",
      "\n",
      "#print sea_det_xcov.I.dot(1/(n_examples-1.0)*sea_det_mat.T.dot(inc.T))\n",
      "#print sea_det_xcov.I.dot(sea_det_ycov)\n",
      "#print \n",
      "#print bias_res_xcov.I.dot(1/(n_examples-1.0)*bias_res_mat.T.dot(inc.T))\n",
      "#print bias_res_xcov.I.dot(bias_res_ycov)\n",
      "\n",
      "sea_det_est = sea_det_xcov.I.dot(sea_det_ycov)\n",
      "bias_res_est = bias_res_xcov.I.dot(bias_res_ycov)\n",
      "\n",
      "# printing the normalized covariance matrices\n",
      "print sea_det_XCOV\n",
      "print sea_det_xcov\n",
      "print \n",
      "print sea_det_XCOV.I\n",
      "print sea_det_xcov.I\n",
      "print \n",
      "print sea_det_YCOV\n",
      "print sea_det_ycov\n",
      "print \n",
      "print sea_det_xcov.I.dot(sea_det_ycov)\n",
      "print\n",
      "print '*************************'\n",
      "print \n",
      "print bias_res_XCOV\n",
      "print bias_res_xcov\n",
      "print\n",
      "print bias_res_XCOV.I\n",
      "print bias_res_xcov.I\n",
      "print\n",
      "print bias_res_YCOV\n",
      "print bias_res_ycov\n",
      "print \n",
      "print bias_res_xcov.I.dot(bias_res_ycov)\n",
      "print\n",
      "print '**************************'\n",
      "# deriving final estimates and showing equivalence\n",
      "print sea_det_est\n",
      "print bias_res_est, bias_res_est[0][0] + bias_res_est[1][0]\n",
      "\n"
     ],
     "language": "python",
     "metadata": {},
     "outputs": [
      {
       "output_type": "stream",
       "stream": "stdout",
       "text": [
        "[[509   0]\n",
        " [  0 491]]\n",
        "[[ 0.50950951  0.        ]\n",
        " [ 0.          0.49149149]]\n",
        "\n",
        "[[ 0.00196464  0.        ]\n",
        " [ 0.          0.00203666]]\n",
        "[[ 1.96267191  0.        ]\n",
        " [ 0.          2.03462322]]\n",
        "\n",
        "[[ 557.9532247 ]\n",
        " [ 495.60390779]]\n",
        "[[ 0.55851174]\n",
        " [ 0.49610001]]\n",
        "\n",
        "[[ 1.09617529]\n",
        " [ 1.00937659]]\n",
        "\n",
        "*************************\n",
        "\n",
        "[[1000  509]\n",
        " [ 509  509]]\n",
        "[[ 1.001001    0.50950951]\n",
        " [ 0.50950951  0.50950951]]\n",
        "\n",
        "[[ 0.00203666 -0.00203666]\n",
        " [-0.00203666  0.0040013 ]]\n",
        "[[ 2.03462322 -2.03462322]\n",
        " [-2.03462322  3.99729512]]\n",
        "\n",
        "[[ 1053.55713249]\n",
        " [  557.9532247 ]]\n",
        "[[ 1.05461174]\n",
        " [ 0.55851174]]\n",
        "\n",
        "[[ 1.00937659]\n",
        " [ 0.0867987 ]]\n",
        "\n",
        "**************************\n",
        "[[ 1.09617529]\n",
        " [ 1.00937659]]\n",
        "[[ 1.00937659]\n",
        " [ 0.0867987 ]] [[ 1.09617529]]\n"
       ]
      }
     ],
     "prompt_number": 231
    },
    {
     "cell_type": "code",
     "collapsed": false,
     "input": [
      "print 0.00209205*1053.84623933 + (-0.00209205)*(574.85730527)\n",
      "print -0.00209205*1053.84623933 + (0.00400776)*(574.85730527)\n",
      "-(106826 + 94399 + 95589 + 101601 + 100728)*.2+(107805 + 107150 + 105981 + 108543 + 115971)*0.2\n",
      "\n",
      "(107805 + 107150 + 105981 + 108543 + 115971)*0.2"
     ],
     "language": "python",
     "metadata": {},
     "outputs": [
      {
       "output_type": "stream",
       "stream": "stdout",
       "text": [
        "1.0020687995\n",
        "0.0991910887786\n"
       ]
      },
      {
       "metadata": {},
       "output_type": "pyout",
       "prompt_number": 84,
       "text": [
        "109090.0"
       ]
      }
     ],
     "prompt_number": 84
    },
    {
     "cell_type": "code",
     "collapsed": false,
     "input": [
      "n_models=1000\n",
      "\n",
      "ssprob=0.45 \n",
      "slprob=0.05 \n",
      "dlprob=0.45 \n",
      "dsprob=0.05 \n",
      "bias=1.0\n",
      "seattle_effect=0.1 \n",
      "detroit_effect=-0.1\n",
      "error_scale=0.1\n",
      "n_examples=100\n",
      "\n",
      "sea_det_ests = colin.generate_w_df(n_models=n_models, \n",
      "                                    xcols=['seattle','detroit'], ycol='income',\n",
      "                                    ssprob=ssprob, slprob=slprob, \n",
      "                                    dlprob=dlprob, dsprob=dsprob, \n",
      "                                    bias=bias, \n",
      "                                    seattle_effect=seattle_effect, detroit_effect=detroit_effect, \n",
      "                                    error_scale=error_scale, \n",
      "                                    n_examples=n_examples)\n",
      "\n",
      "bias_res_ests = colin.generate_w_df(n_models=n_models, \n",
      "                                    xcols=['bias','residence'], ycol='income',\n",
      "                                    ssprob=ssprob, slprob=slprob, \n",
      "                                    dlprob=dlprob, dsprob=dsprob, \n",
      "                                    bias=bias, \n",
      "                                    seattle_effect=seattle_effect, detroit_effect=detroit_effect, \n",
      "                                    error_scale=error_scale, \n",
      "                                    n_examples=n_examples)\n",
      "\n",
      "sea_mean = sea_det_ests['seattle'].mean()\n",
      "sea_std = sea_det_ests['seattle'].std(ddof=1)\n",
      "det_mean = sea_det_ests['detroit'].mean()\n",
      "det_std = sea_det_ests['detroit'].std(ddof=1)\n",
      "\n",
      "sea_det_diff = sea_det_ests['seattle']-sea_det_ests['detroit']\n",
      "sea_det_diff_mean = sea_det_diff.mean()\n",
      "sea_det_diff_std = sea_det_diff.std(ddof=1)\n",
      "\n",
      "bias_std = bias_res_ests['bias'].std(ddof=1)\n",
      "bias_mean = bias_res_ests['bias'].mean()\n",
      "res_mean = bias_res_ests['residence'].mean()\n",
      "res_std = bias_res_ests['residence'].std(ddof=1)\n",
      "\n",
      "print sea_mean, det_mean, sea_det_diff_mean\n",
      "print sea_std, det_std, sea_det_diff_std\n",
      "print\n",
      "print bias_mean, res_mean\n",
      "print bias_std, res_std\n",
      "print\n",
      "print bias_std/sea_std\n",
      "print res_std/sea_std\n",
      "print res_std/sea_det_diff_std"
     ],
     "language": "python",
     "metadata": {},
     "outputs": [
      {
       "output_type": "stream",
       "stream": "stdout",
       "text": [
        "1.09929612019 0.899525427938 0.199770692257\n",
        "0.0143726089686 0.0140875511854 0.0201654870128\n",
        "\n",
        "0.900468272156 0.19975834043\n",
        "0.0142731383128 0.0205124310762\n",
        "\n",
        "0.993079151046\n",
        "1.42718911514\n",
        "1.01720484425\n"
       ]
      }
     ],
     "prompt_number": 215
    },
    {
     "cell_type": "code",
     "collapsed": false,
     "input": [
      "(np.matrix([[1000,500],[500,500]])/1000.0).I"
     ],
     "language": "python",
     "metadata": {},
     "outputs": [
      {
       "metadata": {},
       "output_type": "pyout",
       "prompt_number": 229,
       "text": [
        "matrix([[ 2., -2.],\n",
        "        [-2.,  4.]])"
       ]
      }
     ],
     "prompt_number": 229
    },
    {
     "cell_type": "code",
     "collapsed": false,
     "input": [
      "xx = np.linspace(0.5,1.6,1000)\n",
      "plt.plot(xx,sp.stats.norm.pdf(xx, loc=1, scale=0.1))\n",
      "plt.plot(xx,sp.stats.norm.pdf(xx, loc=1.1, scale=0.1))"
     ],
     "language": "python",
     "metadata": {},
     "outputs": [
      {
       "metadata": {},
       "output_type": "pyout",
       "prompt_number": 247,
       "text": [
        "[<matplotlib.lines.Line2D at 0x108fbcb90>]"
       ]
      },
      {
       "metadata": {},
       "output_type": "display_data",
       "png": "[encoded data removed]",
       "text": [
        "<matplotlib.figure.Figure at 0x109404710>"
       ]
      }
     ],
     "prompt_number": 247
    },
    {
     "cell_type": "code",
     "collapsed": false,
     "input": [],
     "language": "python",
     "metadata": {},
     "outputs": [],
     "prompt_number": 241
    },
    {
     "cell_type": "code",
     "collapsed": false,
     "input": [],
     "language": "python",
     "metadata": {},
     "outputs": []
    },
    {
     "cell_type": "code",
     "collapsed": false,
     "input": [],
     "language": "python",
     "metadata": {},
     "outputs": []
    }
   ],
   "metadata": {}
  }
 ]
}